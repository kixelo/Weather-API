{
 "cells": [
  {
   "cell_type": "code",
   "execution_count": 5,
   "id": "e3f97f7a-1f25-4336-9466-86495a16784b",
   "metadata": {},
   "outputs": [
    {
     "name": "stdout",
     "output_type": "stream",
     "text": [
      "Requirement already satisfied: pandas in c:\\users\\igoro\\appdata\\local\\programs\\python\\python312\\lib\\site-packages (2.2.0)\n",
      "Requirement already satisfied: numpy<2,>=1.26.0 in c:\\users\\igoro\\appdata\\local\\programs\\python\\python312\\lib\\site-packages (from pandas) (1.26.4)\n",
      "Requirement already satisfied: python-dateutil>=2.8.2 in c:\\users\\igoro\\appdata\\local\\programs\\python\\python312\\lib\\site-packages (from pandas) (2.8.2)\n",
      "Requirement already satisfied: pytz>=2020.1 in c:\\users\\igoro\\appdata\\local\\programs\\python\\python312\\lib\\site-packages (from pandas) (2024.1)\n",
      "Requirement already satisfied: tzdata>=2022.7 in c:\\users\\igoro\\appdata\\local\\programs\\python\\python312\\lib\\site-packages (from pandas) (2024.1)\n",
      "Requirement already satisfied: six>=1.5 in c:\\users\\igoro\\appdata\\local\\programs\\python\\python312\\lib\\site-packages (from python-dateutil>=2.8.2->pandas) (1.16.0)\n"
     ]
    },
    {
     "name": "stderr",
     "output_type": "stream",
     "text": [
      "\n",
      "[notice] A new release of pip is available: 23.2.1 -> 24.0\n",
      "[notice] To update, run: python.exe -m pip install --upgrade pip\n"
     ]
    },
    {
     "data": {
      "text/html": [
       "<div>\n",
       "<style scoped>\n",
       "    .dataframe tbody tr th:only-of-type {\n",
       "        vertical-align: middle;\n",
       "    }\n",
       "\n",
       "    .dataframe tbody tr th {\n",
       "        vertical-align: top;\n",
       "    }\n",
       "\n",
       "    .dataframe thead th {\n",
       "        text-align: right;\n",
       "    }\n",
       "</style>\n",
       "<table border=\"1\" class=\"dataframe\">\n",
       "  <thead>\n",
       "    <tr style=\"text-align: right;\">\n",
       "      <th></th>\n",
       "      <th>word</th>\n",
       "      <th>definition</th>\n",
       "    </tr>\n",
       "  </thead>\n",
       "  <tbody>\n",
       "    <tr>\n",
       "      <th>0</th>\n",
       "      <td>abandoned industrial site</td>\n",
       "      <td>Site that cannot be used for any purpose, bein...</td>\n",
       "    </tr>\n",
       "    <tr>\n",
       "      <th>1</th>\n",
       "      <td>abandoned vehicle</td>\n",
       "      <td>A vehicle that has been discarded in the envir...</td>\n",
       "    </tr>\n",
       "    <tr>\n",
       "      <th>2</th>\n",
       "      <td>abiotic factor</td>\n",
       "      <td>Physical, chemical and other non-living enviro...</td>\n",
       "    </tr>\n",
       "    <tr>\n",
       "      <th>3</th>\n",
       "      <td>access road</td>\n",
       "      <td>Any street or narrow stretch of paved surface ...</td>\n",
       "    </tr>\n",
       "    <tr>\n",
       "      <th>4</th>\n",
       "      <td>access to the sea</td>\n",
       "      <td>The ability to bring goods to and from a port ...</td>\n",
       "    </tr>\n",
       "    <tr>\n",
       "      <th>...</th>\n",
       "      <td>...</td>\n",
       "      <td>...</td>\n",
       "    </tr>\n",
       "    <tr>\n",
       "      <th>49532</th>\n",
       "      <td>casing</td>\n",
       "      <td>Something put around something else, usually i...</td>\n",
       "    </tr>\n",
       "    <tr>\n",
       "      <th>49533</th>\n",
       "      <td>facing</td>\n",
       "      <td>Something put around something else, usually i...</td>\n",
       "    </tr>\n",
       "    <tr>\n",
       "      <th>49534</th>\n",
       "      <td>lining</td>\n",
       "      <td>Something put around something else, usually i...</td>\n",
       "    </tr>\n",
       "    <tr>\n",
       "      <th>49535</th>\n",
       "      <td>assumption of Mary</td>\n",
       "      <td>Catholic holiday on August 15, remembering the...</td>\n",
       "    </tr>\n",
       "    <tr>\n",
       "      <th>49536</th>\n",
       "      <td>auscultation</td>\n",
       "      <td>Listening to the heart and lungs using a steth...</td>\n",
       "    </tr>\n",
       "  </tbody>\n",
       "</table>\n",
       "<p>49537 rows × 2 columns</p>\n",
       "</div>"
      ],
      "text/plain": [
       "                            word  \\\n",
       "0      abandoned industrial site   \n",
       "1              abandoned vehicle   \n",
       "2                 abiotic factor   \n",
       "3                    access road   \n",
       "4              access to the sea   \n",
       "...                          ...   \n",
       "49532                     casing   \n",
       "49533                     facing   \n",
       "49534                     lining   \n",
       "49535         assumption of Mary   \n",
       "49536               auscultation   \n",
       "\n",
       "                                              definition  \n",
       "0      Site that cannot be used for any purpose, bein...  \n",
       "1      A vehicle that has been discarded in the envir...  \n",
       "2      Physical, chemical and other non-living enviro...  \n",
       "3      Any street or narrow stretch of paved surface ...  \n",
       "4      The ability to bring goods to and from a port ...  \n",
       "...                                                  ...  \n",
       "49532  Something put around something else, usually i...  \n",
       "49533  Something put around something else, usually i...  \n",
       "49534  Something put around something else, usually i...  \n",
       "49535  Catholic holiday on August 15, remembering the...  \n",
       "49536  Listening to the heart and lungs using a steth...  \n",
       "\n",
       "[49537 rows x 2 columns]"
      ]
     },
     "execution_count": 5,
     "metadata": {},
     "output_type": "execute_result"
    }
   ],
   "source": [
    "import pandas as pd\n",
    "!pip install pandas\n",
    "\n",
    "df = pd.read_csv(r\"C:\\Users\\igoro\\Documents\\Python projects 2024\\Student Project_Build a Dict API\\dictionary.csv\")\n",
    "df"
   ]
  },
  {
   "cell_type": "code",
   "execution_count": 9,
   "id": "d17f9164-95a7-4a40-8e56-47445300c925",
   "metadata": {},
   "outputs": [
    {
     "data": {
      "text/plain": [
       "Index(['word', 'definition'], dtype='object')"
      ]
     },
     "execution_count": 9,
     "metadata": {},
     "output_type": "execute_result"
    }
   ],
   "source": [
    "df.columns"
   ]
  },
  {
   "cell_type": "code",
   "execution_count": 42,
   "id": "37d187fa-6d11-4f63-b217-3c29d7a19951",
   "metadata": {},
   "outputs": [
    {
     "data": {
      "text/plain": [
       "0        abandoned industrial site\n",
       "1                abandoned vehicle\n",
       "2                   abiotic factor\n",
       "3                      access road\n",
       "4                access to the sea\n",
       "                   ...            \n",
       "49532                       casing\n",
       "49533                       facing\n",
       "49534                       lining\n",
       "49535           assumption of Mary\n",
       "49536                 auscultation\n",
       "Name: word, Length: 49537, dtype: object"
      ]
     },
     "execution_count": 42,
     "metadata": {},
     "output_type": "execute_result"
    }
   ],
   "source": [
    "df[\"word\"]"
   ]
  },
  {
   "cell_type": "code",
   "execution_count": 45,
   "id": "d6e10bc9-4bc3-4b96-b297-ff3657f91d14",
   "metadata": {},
   "outputs": [
    {
     "data": {
      "text/plain": [
       "0        Site that cannot be used for any purpose, bein...\n",
       "1        A vehicle that has been discarded in the envir...\n",
       "2        Physical, chemical and other non-living enviro...\n",
       "3        Any street or narrow stretch of paved surface ...\n",
       "4        The ability to bring goods to and from a port ...\n",
       "                               ...                        \n",
       "49532    Something put around something else, usually i...\n",
       "49533    Something put around something else, usually i...\n",
       "49534    Something put around something else, usually i...\n",
       "49535    Catholic holiday on August 15, remembering the...\n",
       "49536    Listening to the heart and lungs using a steth...\n",
       "Name: definition, Length: 49537, dtype: object"
      ]
     },
     "execution_count": 45,
     "metadata": {},
     "output_type": "execute_result"
    }
   ],
   "source": [
    "df['definition']"
   ]
  },
  {
   "cell_type": "code",
   "execution_count": 49,
   "id": "8d3fdb70-ddb3-4129-8667-a8be276aa5a8",
   "metadata": {},
   "outputs": [
    {
     "name": "stdout",
     "output_type": "stream",
     "text": [
      "1. Something done voluntarily by a person, and of such a nature that certain legal consequences attach to it.\n",
      "2. Legal documents, decrees, edicts, laws, judgments, etc.\n",
      "3. To do something.\n",
      "4. To perform a theatrical role.\n",
      "\n",
      "\n"
     ]
    }
   ],
   "source": [
    "def thesaurus(word):\n",
    "    df = pd.read_csv(r\"C:\\Users\\igoro\\Documents\\Python projects 2024\\Student Project_Build a Dict API\\dictionary.csv\")\n",
    "    result = df.loc[df['word'] == word]['definition'].squeeze()\n",
    "    return result + \"\\n\"\n",
    "print(thesaurus(\"act\"))"
   ]
  }
 ],
 "metadata": {
  "kernelspec": {
   "display_name": "Python 3 (ipykernel)",
   "language": "python",
   "name": "python3"
  },
  "language_info": {
   "codemirror_mode": {
    "name": "ipython",
    "version": 3
   },
   "file_extension": ".py",
   "mimetype": "text/x-python",
   "name": "python",
   "nbconvert_exporter": "python",
   "pygments_lexer": "ipython3",
   "version": "3.12.1"
  }
 },
 "nbformat": 4,
 "nbformat_minor": 5
}
